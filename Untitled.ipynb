{
 "cells": [
  {
   "cell_type": "code",
   "execution_count": 3,
   "id": "3a98642f",
   "metadata": {},
   "outputs": [],
   "source": [
    "import k2636  # Driver for keithley 2636\n",
    "import sys\n",
    "import fnmatch\n",
    "import pandas as pd"
   ]
  },
  {
   "cell_type": "code",
   "execution_count": 2,
   "id": "d0608b42",
   "metadata": {},
   "outputs": [],
   "source": [
    "keithley = K2636(address='ASRL/dev/ttyUSB0', read_term='\\n', baudrate=57600)\n"
   ]
  },
  {
   "cell_type": "code",
   "execution_count": null,
   "id": "60f67ad9",
   "metadata": {},
   "outputs": [],
   "source": []
  }
 ],
 "metadata": {
  "kernelspec": {
   "display_name": "Python 3 (ipykernel)",
   "language": "python",
   "name": "python3"
  },
  "language_info": {
   "codemirror_mode": {
    "name": "ipython",
    "version": 3
   },
   "file_extension": ".py",
   "mimetype": "text/x-python",
   "name": "python",
   "nbconvert_exporter": "python",
   "pygments_lexer": "ipython3",
   "version": "3.9.7"
  }
 },
 "nbformat": 4,
 "nbformat_minor": 5
}
